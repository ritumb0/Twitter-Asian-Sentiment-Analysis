{
 "cells": [
  {
   "cell_type": "code",
   "execution_count": 1,
   "id": "24126b2d",
   "metadata": {},
   "outputs": [],
   "source": [
    "import pandas as pd\n",
    "from sklearn import linear_model\n",
    "import numpy as np\n",
    "from sklearn.ensemble import RandomForestRegressor\n",
    "from lightgbm import LGBMRegressor\n",
    "from sklearn.tree import DecisionTreeRegressor\n",
    "from sklearn.linear_model import SGDRegressor\n",
    "from sklearn.metrics import mean_squared_error\n",
    "from sklearn.model_selection import train_test_split\n",
    "import numpy as np"
   ]
  },
  {
   "cell_type": "code",
   "execution_count": 2,
   "id": "3bbbd02a",
   "metadata": {},
   "outputs": [],
   "source": [
    "import pandas as pd\n",
    "train = pd.read_csv(\"Aug9ValidationFeaturization.csv\")\n",
    "train = train.rename(columns = {'textblob_subjectvities':'textblob_subjectivities'})\n",
    "train = train.drop(\"Unnamed: 0\", axis = 1)\n",
    "df = pd.read_csv(\"Aug9TrainingFeaturizationUpdate.csv\")\n",
    "df = df.drop(\"Unnamed: 0\", axis = 1)\n",
    "train = pd.concat([train, df], axis = 0)\n",
    "test = pd.read_csv(\"Aug11TestingFeaturization.csv\")\n",
    "test = test.drop(\"Unnamed: 0\", axis = 1)"
   ]
  },
  {
   "cell_type": "code",
   "execution_count": 38,
   "id": "8c1728a3",
   "metadata": {},
   "outputs": [
    {
     "data": {
      "text/html": [
       "<div>\n",
       "<style scoped>\n",
       "    .dataframe tbody tr th:only-of-type {\n",
       "        vertical-align: middle;\n",
       "    }\n",
       "\n",
       "    .dataframe tbody tr th {\n",
       "        vertical-align: top;\n",
       "    }\n",
       "\n",
       "    .dataframe thead th {\n",
       "        text-align: right;\n",
       "    }\n",
       "</style>\n",
       "<table border=\"1\" class=\"dataframe\">\n",
       "  <thead>\n",
       "    <tr style=\"text-align: right;\">\n",
       "      <th></th>\n",
       "      <th>id</th>\n",
       "      <th>scaled_word_count</th>\n",
       "      <th>compound_sentiment_vader</th>\n",
       "      <th>neutral_sentiment_vader</th>\n",
       "      <th>textblob_polarities</th>\n",
       "      <th>textblob_subjectivities</th>\n",
       "      <th>sonar_hate_speech</th>\n",
       "      <th>sonar_offensive_language</th>\n",
       "      <th>sonar_neither</th>\n",
       "      <th>bert_feature_0</th>\n",
       "      <th>...</th>\n",
       "      <th>bert_feature_762</th>\n",
       "      <th>bert_feature_763</th>\n",
       "      <th>bert_feature_764</th>\n",
       "      <th>bert_feature_765</th>\n",
       "      <th>bert_feature_766</th>\n",
       "      <th>bert_feature_767</th>\n",
       "      <th>profanity_probability</th>\n",
       "      <th>ist_present</th>\n",
       "      <th>scaled_spelling_mistakes</th>\n",
       "      <th>score</th>\n",
       "    </tr>\n",
       "  </thead>\n",
       "  <tbody>\n",
       "    <tr>\n",
       "      <th>0</th>\n",
       "      <td>2098cabe2c65f49b</td>\n",
       "      <td>-0.606036</td>\n",
       "      <td>0.0000</td>\n",
       "      <td>1.000</td>\n",
       "      <td>0.000000</td>\n",
       "      <td>0.000000</td>\n",
       "      <td>0.039453</td>\n",
       "      <td>0.330376</td>\n",
       "      <td>0.630171</td>\n",
       "      <td>-0.211861</td>\n",
       "      <td>...</td>\n",
       "      <td>0.075990</td>\n",
       "      <td>-0.573529</td>\n",
       "      <td>-0.346084</td>\n",
       "      <td>-0.071958</td>\n",
       "      <td>1.110351</td>\n",
       "      <td>0.372542</td>\n",
       "      <td>0.031756</td>\n",
       "      <td>0</td>\n",
       "      <td>0.002094</td>\n",
       "      <td>0.0</td>\n",
       "    </tr>\n",
       "    <tr>\n",
       "      <th>1</th>\n",
       "      <td>2099219c6525b2bb</td>\n",
       "      <td>-0.564958</td>\n",
       "      <td>0.0000</td>\n",
       "      <td>1.000</td>\n",
       "      <td>0.250000</td>\n",
       "      <td>0.500000</td>\n",
       "      <td>0.054796</td>\n",
       "      <td>0.390751</td>\n",
       "      <td>0.554454</td>\n",
       "      <td>0.234123</td>\n",
       "      <td>...</td>\n",
       "      <td>-0.811804</td>\n",
       "      <td>-0.659451</td>\n",
       "      <td>-0.415286</td>\n",
       "      <td>-0.687896</td>\n",
       "      <td>0.889668</td>\n",
       "      <td>-0.903292</td>\n",
       "      <td>0.075723</td>\n",
       "      <td>0</td>\n",
       "      <td>0.000000</td>\n",
       "      <td>0.0</td>\n",
       "    </tr>\n",
       "    <tr>\n",
       "      <th>2</th>\n",
       "      <td>209998f2281e9070</td>\n",
       "      <td>-0.123365</td>\n",
       "      <td>-0.2960</td>\n",
       "      <td>0.956</td>\n",
       "      <td>0.041975</td>\n",
       "      <td>0.208951</td>\n",
       "      <td>0.029579</td>\n",
       "      <td>0.391705</td>\n",
       "      <td>0.578716</td>\n",
       "      <td>-0.295592</td>\n",
       "      <td>...</td>\n",
       "      <td>0.245859</td>\n",
       "      <td>-0.517471</td>\n",
       "      <td>-0.030694</td>\n",
       "      <td>0.454757</td>\n",
       "      <td>0.643136</td>\n",
       "      <td>0.820966</td>\n",
       "      <td>0.012263</td>\n",
       "      <td>0</td>\n",
       "      <td>0.000000</td>\n",
       "      <td>0.0</td>\n",
       "    </tr>\n",
       "    <tr>\n",
       "      <th>3</th>\n",
       "      <td>209ad033f7f4e0ac</td>\n",
       "      <td>-0.493071</td>\n",
       "      <td>-0.4588</td>\n",
       "      <td>0.824</td>\n",
       "      <td>0.000000</td>\n",
       "      <td>0.000000</td>\n",
       "      <td>0.040465</td>\n",
       "      <td>0.240448</td>\n",
       "      <td>0.719086</td>\n",
       "      <td>-0.172126</td>\n",
       "      <td>...</td>\n",
       "      <td>0.497536</td>\n",
       "      <td>0.008248</td>\n",
       "      <td>-0.831731</td>\n",
       "      <td>-0.830045</td>\n",
       "      <td>0.526571</td>\n",
       "      <td>0.160221</td>\n",
       "      <td>0.014260</td>\n",
       "      <td>0</td>\n",
       "      <td>0.002094</td>\n",
       "      <td>0.0</td>\n",
       "    </tr>\n",
       "    <tr>\n",
       "      <th>4</th>\n",
       "      <td>209ad2fbd9273dbd</td>\n",
       "      <td>-0.564958</td>\n",
       "      <td>-0.3612</td>\n",
       "      <td>0.737</td>\n",
       "      <td>-0.041667</td>\n",
       "      <td>0.625000</td>\n",
       "      <td>0.046405</td>\n",
       "      <td>0.344609</td>\n",
       "      <td>0.608986</td>\n",
       "      <td>-0.256651</td>\n",
       "      <td>...</td>\n",
       "      <td>0.048683</td>\n",
       "      <td>-0.753143</td>\n",
       "      <td>0.125437</td>\n",
       "      <td>-0.755555</td>\n",
       "      <td>0.036813</td>\n",
       "      <td>0.426526</td>\n",
       "      <td>0.445231</td>\n",
       "      <td>1</td>\n",
       "      <td>0.000000</td>\n",
       "      <td>0.0</td>\n",
       "    </tr>\n",
       "  </tbody>\n",
       "</table>\n",
       "<p>5 rows × 781 columns</p>\n",
       "</div>"
      ],
      "text/plain": [
       "                 id  scaled_word_count  compound_sentiment_vader  \\\n",
       "0  2098cabe2c65f49b          -0.606036                    0.0000   \n",
       "1  2099219c6525b2bb          -0.564958                    0.0000   \n",
       "2  209998f2281e9070          -0.123365                   -0.2960   \n",
       "3  209ad033f7f4e0ac          -0.493071                   -0.4588   \n",
       "4  209ad2fbd9273dbd          -0.564958                   -0.3612   \n",
       "\n",
       "   neutral_sentiment_vader  textblob_polarities  textblob_subjectivities  \\\n",
       "0                    1.000             0.000000                 0.000000   \n",
       "1                    1.000             0.250000                 0.500000   \n",
       "2                    0.956             0.041975                 0.208951   \n",
       "3                    0.824             0.000000                 0.000000   \n",
       "4                    0.737            -0.041667                 0.625000   \n",
       "\n",
       "   sonar_hate_speech  sonar_offensive_language  sonar_neither  bert_feature_0  \\\n",
       "0           0.039453                  0.330376       0.630171       -0.211861   \n",
       "1           0.054796                  0.390751       0.554454        0.234123   \n",
       "2           0.029579                  0.391705       0.578716       -0.295592   \n",
       "3           0.040465                  0.240448       0.719086       -0.172126   \n",
       "4           0.046405                  0.344609       0.608986       -0.256651   \n",
       "\n",
       "   ...  bert_feature_762  bert_feature_763  bert_feature_764  \\\n",
       "0  ...          0.075990         -0.573529         -0.346084   \n",
       "1  ...         -0.811804         -0.659451         -0.415286   \n",
       "2  ...          0.245859         -0.517471         -0.030694   \n",
       "3  ...          0.497536          0.008248         -0.831731   \n",
       "4  ...          0.048683         -0.753143          0.125437   \n",
       "\n",
       "   bert_feature_765  bert_feature_766  bert_feature_767  \\\n",
       "0         -0.071958          1.110351          0.372542   \n",
       "1         -0.687896          0.889668         -0.903292   \n",
       "2          0.454757          0.643136          0.820966   \n",
       "3         -0.830045          0.526571          0.160221   \n",
       "4         -0.755555          0.036813          0.426526   \n",
       "\n",
       "   profanity_probability  ist_present  scaled_spelling_mistakes  score  \n",
       "0               0.031756            0                  0.002094    0.0  \n",
       "1               0.075723            0                  0.000000    0.0  \n",
       "2               0.012263            0                  0.000000    0.0  \n",
       "3               0.014260            0                  0.002094    0.0  \n",
       "4               0.445231            1                  0.000000    0.0  \n",
       "\n",
       "[5 rows x 781 columns]"
      ]
     },
     "execution_count": 38,
     "metadata": {},
     "output_type": "execute_result"
    }
   ],
   "source": [
    "train.head()"
   ]
  },
  {
   "cell_type": "code",
   "execution_count": 3,
   "id": "4253447e",
   "metadata": {},
   "outputs": [],
   "source": [
    "trainscores = np.array(train.score)\n",
    "testscores = np.array(test.score)\n",
    "train = train.drop([\"id\", \"score\"], axis = \"columns\")\n",
    "test = test.drop([\"id\", \"score\"], axis = \"columns\")\n",
    "train = train.values.tolist()\n",
    "train = np.asarray(train)\n",
    "test = test.values.tolist()\n",
    "test = np.asarray(test)\n",
    "train = train.astype(np.float32) \n",
    "test = test.astype(np.float32)\n",
    "trainscores = trainscores.astype(np.float32)\n",
    "testscores = testscores.astype(np.float32)"
   ]
  },
  {
   "cell_type": "code",
   "execution_count": 4,
   "id": "7d7d9a7c",
   "metadata": {},
   "outputs": [],
   "source": [
    "import matplotlib.pyplot as plt\n",
    "def plot_results(predvals, actualvals):\n",
    "    actualvalslist = list(actualvals)\n",
    "    plt.scatter(actualvalslist, predvals)\n",
    "    plt.ylabel(\"Predicted Value\")\n",
    "    plt.xlabel(\"Actual Value\")\n",
    "    ##plt.xlim(0, 1)\n",
    "    plt.ylim(0, 1)\n",
    "    plt.plot([0, 1], [0, 1])\n",
    "    plt.show()"
   ]
  },
  {
   "cell_type": "code",
   "execution_count": 18,
   "id": "e33133d4",
   "metadata": {},
   "outputs": [],
   "source": [
    "tweets = pd.read_csv('Aug11TweetsFeaturized.csv')\n",
    "tweets = tweets.drop(\"Unnamed: 0\", axis = 1)\n",
    "\n",
    "tweets = tweets.values.tolist()\n",
    "tweets = np.asarray(tweets)\n",
    "tweets = tweets.astype(np.float32) "
   ]
  },
  {
   "cell_type": "code",
   "execution_count": 28,
   "id": "5770a979",
   "metadata": {},
   "outputs": [
    {
     "name": "stdout",
     "output_type": "stream",
     "text": [
      "Score -0.7539363561930261\n",
      "MSE 0.028219936957515086\n"
     ]
    },
    {
     "data": {
      "image/png": "[encoded data removed]",
      "text/plain": [
       "<Figure size 432x288 with 1 Axes>"
      ]
     },
     "metadata": {
      "needs_background": "light"
     },
     "output_type": "display_data"
    }
   ],
   "source": [
    "lgbm = LGBMRegressor()\n",
    "lgbm.fit(train, trainscores)\n",
    "print(\"Score\", lgbm.score(test, testscores))\n",
    "pred_vals = lgbm.predict(test)\n",
    "print(\"MSE\", mean_squared_error(testscores, pred_vals))\n",
    "plot_results(pred_vals, testscores)"
   ]
  },
  {
   "cell_type": "code",
   "execution_count": 39,
   "id": "9e6ef8f8",
   "metadata": {},
   "outputs": [],
   "source": [
    "lgbmtweetspred = lgbm.predict(tweets)\n",
    "lgbmtweets = pd.DataFrame()\n",
    "lgbmtweets[\"scores\"] = lgbmtweetspred\n",
    "lgbmtweets.to_csv(\"LGBMPredictedTweets.csv\")"
   ]
  },
  {
   "cell_type": "code",
   "execution_count": 27,
   "id": "70b74171",
   "metadata": {},
   "outputs": [],
   "source": [
    "sgd = SGDRegressor()\n",
    "sgd.fit(train, trainscores)\n",
    "print(\"Score\", sgd.score(test, testscores))\n",
    "pred_vals = sgd.predict(test)\n",
    "print(\"MSE\", mean_squared_error(testscores, pred_vals))\n",
    "plot_results(pred_vals, testscores)\n",
    "\n",
    "sgdtweetspred = sgd.predict(tweets)\n",
    "\n",
    "sgdtweets = pd.DataFrame()\n",
    "sgdtweets[\"scores\"] = sgdtweetspred\n",
    "sgdtweets.to_csv(\"SGDPredictedTweets.csv\")"
   ]
  },
  {
   "cell_type": "code",
   "execution_count": 52,
   "id": "867297e1",
   "metadata": {},
   "outputs": [
    {
     "name": "stdout",
     "output_type": "stream",
     "text": [
      "0.07588345882532346\n"
     ]
    }
   ],
   "source": [
    "from sklearn.metrics import mean_absolute_error\n",
    "print(mean_absolute_error(testscores, pred_vals))"
   ]
  },
  {
   "cell_type": "code",
   "execution_count": 50,
   "id": "dc67b0ce",
   "metadata": {},
   "outputs": [
    {
     "data": {
      "text/plain": [
       "-1.1865284010788373"
      ]
     },
     "execution_count": 50,
     "metadata": {},
     "output_type": "execute_result"
    }
   ],
   "source": [
    "from sklearn.metrics import r2_score\n",
    "r2_score(testscores, pred_vals)"
   ]
  },
  {
   "cell_type": "code",
   "execution_count": 51,
   "id": "77aefe02",
   "metadata": {},
   "outputs": [
    {
     "name": "stdout",
     "output_type": "stream",
     "text": [
      "-1.2385329693455738\n"
     ]
    }
   ],
   "source": [
    "adjr2 = 1-(1+1.1865284010788373)*(33533-1)/(33533-779-1)\n",
    "print(adjr2)"
   ]
  },
  {
   "cell_type": "code",
   "execution_count": 53,
   "id": "d3d74286",
   "metadata": {},
   "outputs": [
    {
     "data": {
      "text/plain": [
       "0.18756364580163196"
      ]
     },
     "execution_count": 53,
     "metadata": {},
     "output_type": "execute_result"
    }
   ],
   "source": [
    "import math\n",
    "math.sqrt(0.03518012122640005)"
   ]
  },
  {
   "cell_type": "code",
   "execution_count": 40,
   "id": "13ea1206",
   "metadata": {},
   "outputs": [
    {
     "name": "stdout",
     "output_type": "stream",
     "text": [
      "Score -0.8643001506672985\n",
      "MSE 0.0299956338415321\n"
     ]
    },
    {
     "data": {
      "image/png": "[encoded data removed]",
      "text/plain": [
       "<Figure size 432x288 with 1 Axes>"
      ]
     },
     "metadata": {
      "needs_background": "light"
     },
     "output_type": "display_data"
    }
   ],
   "source": [
    "ranfor = RandomForestRegressor(n_estimators = 4)\n",
    "ranfor.fit(train, trainscores)\n",
    "print(\"Score\", ranfor.score(test, testscores))\n",
    "pred_vals = ranfor.predict(test)\n",
    "print(\"MSE\", mean_squared_error(testscores, pred_vals))\n",
    "plot_results(pred_vals, testscores)"
   ]
  },
  {
   "cell_type": "code",
   "execution_count": 48,
   "id": "169d431b",
   "metadata": {},
   "outputs": [],
   "source": [
    "ranfortweetspred = ranfor.predict(tweets)\n",
    "\n",
    "ranfortweets = pd.DataFrame()\n",
    "ranfortweets[\"scores\"] = ranfortweetspred\n",
    "ranfortweets.to_csv(\"RandomForestTweets.csv\")"
   ]
  },
  {
   "cell_type": "code",
   "execution_count": 49,
   "id": "d9bf2f1e",
   "metadata": {},
   "outputs": [
    {
     "name": "stdout",
     "output_type": "stream",
     "text": [
      "Score -1.1865284010788373\n",
      "MSE 0.03518012122640005\n"
     ]
    },
    {
     "data": {
      "image/png": "[encoded data removed]",
      "text/plain": [
       "<Figure size 432x288 with 1 Axes>"
      ]
     },
     "metadata": {
      "needs_background": "light"
     },
     "output_type": "display_data"
    }
   ],
   "source": [
    "dectree = DecisionTreeRegressor()\n",
    "dectree.fit(train, trainscores)\n",
    "print(\"Score\", dectree.score(test, testscores))\n",
    "pred_vals = dectree.predict(test)\n",
    "print(\"MSE\", mean_squared_error(testscores, pred_vals))\n",
    "plot_results(pred_vals, testscores)\n",
    "dectreetweetspred = dectree.predict(tweets)\n",
    "dectreetweets = pd.DataFrame()\n",
    "dectreetweets[\"scores\"] = dectreetweetspred\n",
    "dectreetweets.to_csv(\"DecisionTreeTweets.csv\")"
   ]
  }
 ],
 "metadata": {
  "kernelspec": {
   "display_name": "Python 3 (ipykernel)",
   "language": "python",
   "name": "python3"
  },
  "language_info": {
   "codemirror_mode": {
    "name": "ipython",
    "version": 3
   },
   "file_extension": ".py",
   "mimetype": "text/x-python",
   "name": "python",
   "nbconvert_exporter": "python",
   "pygments_lexer": "ipython3",
   "version": "3.9.5"
  }
 },
 "nbformat": 4,
 "nbformat_minor": 5
}
