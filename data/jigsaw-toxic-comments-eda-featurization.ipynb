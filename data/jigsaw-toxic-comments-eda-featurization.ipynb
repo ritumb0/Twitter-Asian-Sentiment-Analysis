{
 "cells": [
  {
   "cell_type": "code",
   "execution_count": 1,
   "id": "dc2e26e8",
   "metadata": {},
   "outputs": [],
   "source": [
    "import pandas as pd\n",
    "import numpy as np\n",
    "import matplotlib.pyplot as plt\n",
    "import seaborn as sns\n",
    "from profanity_check import predict, predict_prob\n",
    "import spacy"
   ]
  },
  {
   "cell_type": "code",
   "execution_count": 2,
   "id": "57aad10e",
   "metadata": {},
   "outputs": [
    {
     "data": {
      "text/html": [
       "<div>\n",
       "<style scoped>\n",
       "    .dataframe tbody tr th:only-of-type {\n",
       "        vertical-align: middle;\n",
       "    }\n",
       "\n",
       "    .dataframe tbody tr th {\n",
       "        vertical-align: top;\n",
       "    }\n",
       "\n",
       "    .dataframe thead th {\n",
       "        text-align: right;\n",
       "    }\n",
       "</style>\n",
       "<table border=\"1\" class=\"dataframe\">\n",
       "  <thead>\n",
       "    <tr style=\"text-align: right;\">\n",
       "      <th></th>\n",
       "      <th>toxic</th>\n",
       "      <th>severe_toxic</th>\n",
       "      <th>obscene</th>\n",
       "      <th>threat</th>\n",
       "      <th>insult</th>\n",
       "      <th>identity_hate</th>\n",
       "    </tr>\n",
       "  </thead>\n",
       "  <tbody>\n",
       "    <tr>\n",
       "      <th>count</th>\n",
       "      <td>167663.000000</td>\n",
       "      <td>167663.000000</td>\n",
       "      <td>167663.000000</td>\n",
       "      <td>167663.000000</td>\n",
       "      <td>167663.000000</td>\n",
       "      <td>167663.000000</td>\n",
       "    </tr>\n",
       "    <tr>\n",
       "      <th>mean</th>\n",
       "      <td>0.095591</td>\n",
       "      <td>0.009782</td>\n",
       "      <td>0.052999</td>\n",
       "      <td>0.003036</td>\n",
       "      <td>0.049403</td>\n",
       "      <td>0.008947</td>\n",
       "    </tr>\n",
       "    <tr>\n",
       "      <th>std</th>\n",
       "      <td>0.294030</td>\n",
       "      <td>0.098417</td>\n",
       "      <td>0.224032</td>\n",
       "      <td>0.055015</td>\n",
       "      <td>0.216708</td>\n",
       "      <td>0.094162</td>\n",
       "    </tr>\n",
       "    <tr>\n",
       "      <th>min</th>\n",
       "      <td>0.000000</td>\n",
       "      <td>0.000000</td>\n",
       "      <td>0.000000</td>\n",
       "      <td>0.000000</td>\n",
       "      <td>0.000000</td>\n",
       "      <td>0.000000</td>\n",
       "    </tr>\n",
       "    <tr>\n",
       "      <th>25%</th>\n",
       "      <td>0.000000</td>\n",
       "      <td>0.000000</td>\n",
       "      <td>0.000000</td>\n",
       "      <td>0.000000</td>\n",
       "      <td>0.000000</td>\n",
       "      <td>0.000000</td>\n",
       "    </tr>\n",
       "    <tr>\n",
       "      <th>50%</th>\n",
       "      <td>0.000000</td>\n",
       "      <td>0.000000</td>\n",
       "      <td>0.000000</td>\n",
       "      <td>0.000000</td>\n",
       "      <td>0.000000</td>\n",
       "      <td>0.000000</td>\n",
       "    </tr>\n",
       "    <tr>\n",
       "      <th>75%</th>\n",
       "      <td>0.000000</td>\n",
       "      <td>0.000000</td>\n",
       "      <td>0.000000</td>\n",
       "      <td>0.000000</td>\n",
       "      <td>0.000000</td>\n",
       "      <td>0.000000</td>\n",
       "    </tr>\n",
       "    <tr>\n",
       "      <th>max</th>\n",
       "      <td>1.000000</td>\n",
       "      <td>1.000000</td>\n",
       "      <td>1.000000</td>\n",
       "      <td>1.000000</td>\n",
       "      <td>1.000000</td>\n",
       "      <td>1.000000</td>\n",
       "    </tr>\n",
       "  </tbody>\n",
       "</table>\n",
       "</div>"
      ],
      "text/plain": [
       "               toxic   severe_toxic        obscene         threat  \\\n",
       "count  167663.000000  167663.000000  167663.000000  167663.000000   \n",
       "mean        0.095591       0.009782       0.052999       0.003036   \n",
       "std         0.294030       0.098417       0.224032       0.055015   \n",
       "min         0.000000       0.000000       0.000000       0.000000   \n",
       "25%         0.000000       0.000000       0.000000       0.000000   \n",
       "50%         0.000000       0.000000       0.000000       0.000000   \n",
       "75%         0.000000       0.000000       0.000000       0.000000   \n",
       "max         1.000000       1.000000       1.000000       1.000000   \n",
       "\n",
       "              insult  identity_hate  \n",
       "count  167663.000000  167663.000000  \n",
       "mean        0.049403       0.008947  \n",
       "std         0.216708       0.094162  \n",
       "min         0.000000       0.000000  \n",
       "25%         0.000000       0.000000  \n",
       "50%         0.000000       0.000000  \n",
       "75%         0.000000       0.000000  \n",
       "max         1.000000       1.000000  "
      ]
     },
     "execution_count": 2,
     "metadata": {},
     "output_type": "execute_result"
    }
   ],
   "source": [
    "csvdtf = pd.read_csv(\"cleaned_training.csv\")\n",
    "csvdtf = csvdtf.reset_index(drop = True)\n",
    "csvdtf = csvdtf.drop(\"Unnamed: 0\", axis = 1)\n",
    "csvdtf.describe()"
   ]
  },
  {
   "cell_type": "code",
   "execution_count": 8,
   "id": "e0e9932a",
   "metadata": {},
   "outputs": [
    {
     "name": "stdout",
     "output_type": "stream",
     "text": [
      "<class 'pandas.core.frame.DataFrame'>\n",
      "RangeIndex: 70000 entries, 0 to 69999\n",
      "Data columns (total 8 columns):\n",
      " #   Column         Non-Null Count  Dtype \n",
      "---  ------         --------------  ----- \n",
      " 0   id             70000 non-null  object\n",
      " 1   comment_text   70000 non-null  object\n",
      " 2   toxic          70000 non-null  int64 \n",
      " 3   severe_toxic   70000 non-null  int64 \n",
      " 4   obscene        70000 non-null  int64 \n",
      " 5   threat         70000 non-null  int64 \n",
      " 6   insult         70000 non-null  int64 \n",
      " 7   identity_hate  70000 non-null  int64 \n",
      "dtypes: int64(6), object(2)\n",
      "memory usage: 4.3+ MB\n"
     ]
    }
   ],
   "source": [
    "## selecting the first 70000 comments to do exploratory data analysis on\n",
    "\n",
    "csvdtf = csvdtf.iloc[:70000]\n",
    "\n",
    "csvdtf = csvdtf.reset_index(drop = True)\n",
    "csvdtf.info()"
   ]
  },
  {
   "cell_type": "code",
   "execution_count": 4,
   "id": "9551c561",
   "metadata": {},
   "outputs": [],
   "source": [
    "sample_size = 70000"
   ]
  },
  {
   "cell_type": "code",
   "execution_count": 9,
   "id": "5f63be84",
   "metadata": {},
   "outputs": [],
   "source": [
    "import string\n",
    "## splitting the comments into individual sentences\n",
    "\n",
    "## making a list where each item is the entire string of each entry's comments\n",
    "all_sentences = []\n",
    "\n",
    "for word in csvdtf['comment_text']:\n",
    "    all_sentences.append(word) \n",
    "\n",
    "## forming a new list where each item is a list of words that are in that comment\n",
    "lines = list()\n",
    "for line in all_sentences:    \n",
    "    words = line.split()\n",
    "    word_list = []\n",
    "    for w in words:\n",
    "        word_list.append(w)\n",
    "    lines.append(word_list)\n",
    "    \n",
    "\n",
    "## now, to remove punctuation\n",
    "stem = []\n",
    "punct = string.punctuation\n",
    "for entry in lines:\n",
    "    innerentry = []\n",
    "    for word in entry:\n",
    "        for c in punct:\n",
    "            if c in word:\n",
    "                word = word.replace(c, \"\")\n",
    "        innerentry.append(word)\n",
    "    stem.append(innerentry)\n",
    "  \n",
    "\n",
    "  \n",
    "## taking away stop words\n",
    "from nltk.corpus import stopwords\n",
    "import spacy\n",
    "from spacy import displacy\n",
    "import en_core_web_sm\n",
    "nlp = en_core_web_sm.load()\n",
    "\n",
    "stem2 = []\n",
    "\n",
    "for entry in stem:\n",
    "    innerstop = []\n",
    "    for word in entry:   \n",
    "        if word.lower() not in nlp.Defaults.stop_words and len(word) > 0:\n",
    "            innerstop.append(word.lower())\n",
    "    stem2.append(innerstop)\n",
    "\n",
    "from nltk.stem.snowball import SnowballStemmer\n",
    "# passing language param of english\n",
    "s_stemmer = SnowballStemmer(language='english')\n",
    "stem3 = []\n",
    "for entry in stem2:\n",
    "    innerstem = []\n",
    "    for word in entry:\n",
    "        if len(word) > 0:\n",
    "            innerstem.append(s_stemmer.stem(word))\n",
    "    stem3.append(innerstem)\n",
    "\n",
    "## these different stages of processing the comments will come in handy at different times\n",
    "csvdtf[\"puncted\"] = stem\n",
    "csvdtf[\"stopworded\"] = stem2\n",
    "csvdtf[\"stemmed\"] = stem3\n",
    "\n",
    "for comment in csvdtf[\"stopworded\"]:\n",
    "    for word in comment:\n",
    "        if len(word) == 0:\n",
    "            comment.remove(word)"
   ]
  },
  {
   "cell_type": "code",
   "execution_count": 12,
   "id": "1ce81b74",
   "metadata": {},
   "outputs": [
    {
     "data": {
      "image/png": "[encoded data removed]",
      "text/plain": [
       "<Figure size 432x288 with 1 Axes>"
      ]
     },
     "metadata": {
      "needs_background": "light"
     },
     "output_type": "display_data"
    }
   ],
   "source": [
    "fig = plt.figure()\n",
    "ax = fig.add_axes([0,0,1,1])\n",
    "types = [\"Toxic\", \"Severe_Toxic\", \"Obscene\", \"Threat\", \"Insult\", \"Identity-Hate\", \"None\"]\n",
    "tox = 0\n",
    "sev = 0\n",
    "obs = 0\n",
    "trt = 0\n",
    "ins = 0\n",
    "idhate = 0\n",
    "none = 0\n",
    "for x in range(0, sample_size):\n",
    "    if csvdtf[\"toxic\"][x] == 1:\n",
    "        tox+=1\n",
    "    if csvdtf[\"severe_toxic\"][x] == 1:\n",
    "        sev+=1\n",
    "    if csvdtf[\"obscene\"][x] == 1:\n",
    "        obs+=1\n",
    "    if csvdtf[\"threat\"][x] == 1:\n",
    "        trt+=1\n",
    "    if csvdtf[\"insult\"][x] == 1:\n",
    "        ins+=1\n",
    "    if csvdtf[\"identity_hate\"][x] == 1:\n",
    "        idhate+=1\n",
    "    else:\n",
    "        none+=1\n",
    "\n",
    "distrib = [tox, sev, obs, trt, ins, idhate, none]\n",
    "ax.bar(types, distrib)\n",
    "ax.set_title(\"Distribution of Comments (Labels May Overlap)\")\n",
    "plt.show()"
   ]
  },
  {
   "cell_type": "code",
   "execution_count": 11,
   "id": "f72d5d49",
   "metadata": {},
   "outputs": [
    {
     "name": "stdout",
     "output_type": "stream",
     "text": [
      "[[-0.2463381 ]\n",
      " [-0.5059609 ]\n",
      " [-0.25632359]\n",
      " ...\n",
      " [ 0.03325568]\n",
      " [-0.6457578 ]\n",
      " [-0.5059609 ]]\n"
     ]
    },
    {
     "data": {
      "text/plain": [
       "Text(0.5, 1.0, 'Word Count Distribution')"
      ]
     },
     "execution_count": 11,
     "metadata": {},
     "output_type": "execute_result"
    },
    {
     "data": {
      "image/png": "[encoded data removed]",
      "text/plain": [
       "<Figure size 432x288 with 1 Axes>"
      ]
     },
     "metadata": {
      "needs_background": "light"
     },
     "output_type": "display_data"
    }
   ],
   "source": [
    "word_count = csvdtf[\"puncted\"].apply(lambda x: len(x))\n",
    "\n",
    "## standard scaling the feature so that its weights are treated the same way as other features from [0, 1]\n",
    "from sklearn.preprocessing import StandardScaler\n",
    "standard = StandardScaler()\n",
    "\n",
    "scl_wc = []\n",
    "for num in range(0,sample_size):\n",
    "    lst = []\n",
    "    lst.append(word_count[num])\n",
    "    scl_wc.append(lst)\n",
    "\n",
    "scaled_word_count = standard.fit_transform(scl_wc)\n",
    "\n",
    "print(scaled_word_count)\n",
    "\n",
    "normal_arr_wc = []\n",
    "for num in range(0, sample_size):\n",
    "    x = float(scaled_word_count[num])\n",
    "    normal_arr_wc.append(x)\n",
    "\n",
    "csvdtf[\"scaled_word_count\"] = normal_arr_wc\n",
    "\n",
    "plt.hist(word_count, bins = range(0, 300, 15), edgecolor = 'white')\n",
    "plt.ylabel('Number of Comments')\n",
    "plt.xlabel('Word Count')\n",
    "plt.title('Word Count Distribution')\n",
    "\n"
   ]
  },
  {
   "cell_type": "code",
   "execution_count": 14,
   "id": "bfc3ba47",
   "metadata": {},
   "outputs": [
    {
     "data": {
      "image/png": "[encoded data removed]",
      "text/plain": [
       "<Figure size 720x360 with 1 Axes>"
      ]
     },
     "metadata": {
      "needs_background": "light"
     },
     "output_type": "display_data"
    }
   ],
   "source": [
    "labels = [\"toxic\", \"severe_toxic\", \"obscene\", \"threat\", \"insult\", \"identity_hate\"]\n",
    "means = []\n",
    "for x in range(0,6):\n",
    "    total = 0\n",
    "    for y in range(0, sample_size):\n",
    "        if csvdtf[labels[x]][y] == 1:\n",
    "            total+=len(csvdtf['puncted'][y])\n",
    "    means.append(float(total)/distrib[x])\n",
    "\n",
    "labels.append(\"none\")\n",
    "\n",
    "total = 0\n",
    "count = 0\n",
    "for y in range(0, sample_size):\n",
    "    isNone = True\n",
    "    for a in range(0,6):\n",
    "        if csvdtf[labels[a]][y] == 1:\n",
    "            isNone = False\n",
    "    if isNone:\n",
    "        total+=len(csvdtf['puncted'][y])\n",
    "        count+=1\n",
    "means.append(float(total)/count)\n",
    "\n",
    "fig = plt.figure(figsize = (10,5))\n",
    "ax = fig.add_axes([0,0,1,1])\n",
    "ax.bar(labels, means)\n",
    "ax.set_title(\"Mean Word Count for \")\n",
    "plt.show()"
   ]
  },
  {
   "cell_type": "code",
   "execution_count": 18,
   "id": "0ac5f393",
   "metadata": {},
   "outputs": [
    {
     "name": "stdout",
     "output_type": "stream",
     "text": [
      "Top 15 Words in  toxic  Comments\n"
     ]
    },
    {
     "data": {
      "image/png": "[encoded data removed]",
      "text/plain": [
       "<Figure size 1080x360 with 1 Axes>"
      ]
     },
     "metadata": {
      "needs_background": "light"
     },
     "output_type": "display_data"
    },
    {
     "name": "stdout",
     "output_type": "stream",
     "text": [
      "Top 15 Words in  severe_toxic  Comments\n"
     ]
    },
    {
     "data": {
      "image/png": "[encoded data removed]",
      "text/plain": [
       "<Figure size 1080x360 with 1 Axes>"
      ]
     },
     "metadata": {
      "needs_background": "light"
     },
     "output_type": "display_data"
    },
    {
     "name": "stdout",
     "output_type": "stream",
     "text": [
      "Top 15 Words in  obscene  Comments\n"
     ]
    },
    {
     "data": {
      "image/png": "[encoded data removed]",
      "text/plain": [
       "<Figure size 1080x360 with 1 Axes>"
      ]
     },
     "metadata": {
      "needs_background": "light"
     },
     "output_type": "display_data"
    },
    {
     "name": "stdout",
     "output_type": "stream",
     "text": [
      "Top 15 Words in  threat  Comments\n"
     ]
    },
    {
     "data": {
      "image/png": "[encoded data removed]",
      "text/plain": [
       "<Figure size 1080x360 with 1 Axes>"
      ]
     },
     "metadata": {
      "needs_background": "light"
     },
     "output_type": "display_data"
    },
    {
     "name": "stdout",
     "output_type": "stream",
     "text": [
      "Top 15 Words in  insult  Comments\n"
     ]
    },
    {
     "data": {
      "image/png": "[encoded data removed]",
      "text/plain": [
       "<Figure size 1080x360 with 1 Axes>"
      ]
     },
     "metadata": {
      "needs_background": "light"
     },
     "output_type": "display_data"
    },
    {
     "name": "stdout",
     "output_type": "stream",
     "text": [
      "Top 15 Words in  identity_hate  Comments\n"
     ]
    },
    {
     "data": {
      "image/png": "[encoded data removed]",
      "text/plain": [
       "<Figure size 1080x360 with 1 Axes>"
      ]
     },
     "metadata": {
      "needs_background": "light"
     },
     "output_type": "display_data"
    }
   ],
   "source": [
    "from nltk.probability import FreqDist\n",
    "\n",
    "def top15words(label):\n",
    "    frqdist = FreqDist()\n",
    "    for x in range(0, sample_size):\n",
    "        if csvdtf[label][x] == 1:\n",
    "            for word in csvdtf[\"stopworded\"][x]:\n",
    "                frqdist[word] += 1\n",
    "    frqsrs = pd.Series(dict(frqdist))\n",
    "    frqsrs = frqsrs.sort_values()\n",
    "    \n",
    "    print(\"Top 15 Words in \", label, \" Comments\")\n",
    "\n",
    "    frqsrs15 = frqsrs[-15:]\n",
    "    fig, ax = plt.subplots(figsize = (15, 5))\n",
    "    frqsrs15plt = sns.barplot(x = frqsrs15.index, y = frqsrs15.values, ax = ax)\n",
    "    plt.show()\n",
    "\n",
    "labels.remove(\"none\")\n",
    "for label in labels:\n",
    "    top15words(label)"
   ]
  },
  {
   "cell_type": "code",
   "execution_count": 20,
   "id": "b0e5b35a",
   "metadata": {},
   "outputs": [
    {
     "name": "stdout",
     "output_type": "stream",
     "text": [
      "Top 15 Words in Nontoxic Comments\n"
     ]
    },
    {
     "data": {
      "image/png": "[encoded data removed]",
      "text/plain": [
       "<Figure size 1080x360 with 1 Axes>"
      ]
     },
     "metadata": {
      "needs_background": "light"
     },
     "output_type": "display_data"
    }
   ],
   "source": [
    "from nltk.probability import FreqDist\n",
    "## for nonToxic Comments\n",
    "frqnontoxic = FreqDist()\n",
    "for x in range(0, sample_size):\n",
    "    if csvdtf[\"toxic\"][x] == 0:\n",
    "        for word in csvdtf[\"stopworded\"][x]:\n",
    "            frqnontoxic[word] += 1\n",
    "        \n",
    "frqnontoxic = pd.Series(dict(frqnontoxic))\n",
    "frqnontoxic = frqnontoxic.sort_values()\n",
    "\n",
    "print(\"Top 15 Words in Nontoxic Comments\")\n",
    "\n",
    "frqnontoxic15 = frqnontoxic[-15:]\n",
    "fig, ax = plt.subplots(figsize = (15, 5))\n",
    "frqnontoxic15plot = sns.barplot(x = frqnontoxic15.index, y = frqnontoxic15.values, ax = ax)\n",
    "plt.show()"
   ]
  },
  {
   "cell_type": "code",
   "execution_count": 13,
   "id": "4e48652f",
   "metadata": {},
   "outputs": [],
   "source": [
    "def plotfeature(feature):\n",
    "    labels = [\"toxic\", \"severe_toxic\", \"obscene\", \"threat\", \"insult\", \"identity_hate\"]\n",
    "    counts = [0, 0, 0, 0, 0, 0]\n",
    "    means = []\n",
    "    totalnontoxic = 0\n",
    "    countnontoxic = 0\n",
    "    for x in range(0,6):\n",
    "        total = 0\n",
    "        for y in range(0, sample_size):\n",
    "            if csvdtf[labels[x]][y] == 1:\n",
    "                total+=csvdtf[feature][y]\n",
    "                counts[x] += 1\n",
    "            if csvdtf[\"toxic\"][y] == 0:\n",
    "                totalnontoxic+=csvdtf[feature][y]\n",
    "                countnontoxic+=1\n",
    "        means.append(float(total)/counts[x])\n",
    "\n",
    "    labels.append(\"nontoxic\")\n",
    "    means.append(float(totalnontoxic)/countnontoxic)\n",
    "\n",
    "    fig = plt.figure(figsize = (10,5))\n",
    "    ax = fig.add_axes([0,0,1,1])\n",
    "    ax.bar(labels, means)\n",
    "    ax.set_title(f'Mean {feature} for ')\n",
    "    plt.show()"
   ]
  },
  {
   "cell_type": "code",
   "execution_count": 14,
   "id": "63e1ff14",
   "metadata": {},
   "outputs": [
    {
     "data": {
      "image/png": "[encoded data removed]",
      "text/plain": [
       "<Figure size 720x360 with 1 Axes>"
      ]
     },
     "metadata": {
      "needs_background": "light"
     },
     "output_type": "display_data"
    }
   ],
   "source": [
    "from nltk.sentiment.vader import SentimentIntensityAnalyzer\n",
    "vader = SentimentIntensityAnalyzer()\n",
    "## to analyze the sentiments\n",
    "## when using vader, no need to clean up punctuation\n",
    "## vader utilizes capitalization, exclamation marks, repitition, emojis (well suited for social media)\n",
    "compound_sentiment = []\n",
    "for comment in csvdtf['comment_text']:\n",
    "    compound_sentiment.append(vader.polarity_scores(comment).get('compound'))\n",
    "csvdtf['compound_sentiment_vader'] = compound_sentiment\n",
    "plotfeature('compound_sentiment_vader')"
   ]
  },
  {
   "cell_type": "code",
   "execution_count": 15,
   "id": "a1af9bb8",
   "metadata": {},
   "outputs": [
    {
     "data": {
      "image/png": "[encoded data removed]",
      "text/plain": [
       "<Figure size 720x360 with 1 Axes>"
      ]
     },
     "metadata": {
      "needs_background": "light"
     },
     "output_type": "display_data"
    }
   ],
   "source": [
    "neutral_sentiment = []\n",
    "for comment in csvdtf['comment_text']:\n",
    "    neutral_sentiment.append(vader.polarity_scores(comment).get('neu'))\n",
    "csvdtf['neutral_sentiment_vader'] = neutral_sentiment\n",
    "\n",
    "plotfeature('neutral_sentiment_vader')"
   ]
  },
  {
   "cell_type": "code",
   "execution_count": 16,
   "id": "cdc11992",
   "metadata": {},
   "outputs": [
    {
     "data": {
      "image/png": "[encoded data removed]",
      "text/plain": [
       "<Figure size 720x360 with 1 Axes>"
      ]
     },
     "metadata": {
      "needs_background": "light"
     },
     "output_type": "display_data"
    }
   ],
   "source": [
    "from textblob import TextBlob\n",
    "\n",
    "polarities = []\n",
    "for comment in csvdtf['comment_text']:\n",
    "    polarities.append(TextBlob(comment).sentiment.polarity)\n",
    "\n",
    "csvdtf['textblob_polarities'] = polarities\n",
    "\n",
    "plotfeature('textblob_polarities')"
   ]
  },
  {
   "cell_type": "code",
   "execution_count": 36,
   "id": "4a05797a",
   "metadata": {},
   "outputs": [
    {
     "name": "stdout",
     "output_type": "stream",
     "text": [
      "[0.5, 0.4, -0.03181818181818183, -0.63, 0.0]\n"
     ]
    }
   ],
   "source": [
    "## what is with the threat?\n",
    "\n",
    "polarities = []\n",
    "\n",
    "for y in range(0, sample_size):\n",
    "    if csvdtf[\"threat\"][y] == 1:\n",
    "        polarities.append(csvdtf[\"textblob_polarities\"][y])\n",
    "\n",
    "print(polarities)\n",
    "\n",
    "## my guess is that there's a lot of words in a few comments so the cursory sentiment scores may get thrown off by\n",
    "## the overall nonsense"
   ]
  },
  {
   "cell_type": "code",
   "execution_count": 17,
   "id": "5e9929f8",
   "metadata": {},
   "outputs": [
    {
     "data": {
      "image/png": "[encoded data removed]",
      "text/plain": [
       "<Figure size 720x360 with 1 Axes>"
      ]
     },
     "metadata": {
      "needs_background": "light"
     },
     "output_type": "display_data"
    }
   ],
   "source": [
    "subjectivities = []\n",
    "for comment in csvdtf['comment_text']:\n",
    "    subjectivities.append(TextBlob(comment).sentiment.subjectivity)\n",
    "\n",
    "csvdtf['textblob_subjectivities'] = subjectivities\n",
    "\n",
    "plotfeature('textblob_subjectivities')"
   ]
  },
  {
   "cell_type": "code",
   "execution_count": 18,
   "id": "e3d78710",
   "metadata": {},
   "outputs": [
    {
     "data": {
      "application/vnd.jupyter.widget-view+json": {
       "model_id": "d670193faffa40fd80501b1e7961f700",
       "version_major": 2,
       "version_minor": 0
      },
      "text/plain": [
       "Downloading:   0%|          | 0.00/625 [00:00<?, ?B/s]"
      ]
     },
     "metadata": {},
     "output_type": "display_data"
    },
    {
     "data": {
      "application/vnd.jupyter.widget-view+json": {
       "model_id": "0e1cabf965254ec5ab32a7b09ea65647",
       "version_major": 2,
       "version_minor": 0
      },
      "text/plain": [
       "Downloading:   0%|          | 0.00/466k [00:00<?, ?B/s]"
      ]
     },
     "metadata": {},
     "output_type": "display_data"
    },
    {
     "data": {
      "application/vnd.jupyter.widget-view+json": {
       "model_id": "99c999ae88d147469817878e87aa21af",
       "version_major": 2,
       "version_minor": 0
      },
      "text/plain": [
       "Downloading:   0%|          | 0.00/399 [00:00<?, ?B/s]"
      ]
     },
     "metadata": {},
     "output_type": "display_data"
    },
    {
     "data": {
      "application/vnd.jupyter.widget-view+json": {
       "model_id": "779a73da36af456da67659115a710714",
       "version_major": 2,
       "version_minor": 0
      },
      "text/plain": [
       "Downloading:   0%|          | 0.00/438M [00:00<?, ?B/s]"
      ]
     },
     "metadata": {},
     "output_type": "display_data"
    },
    {
     "name": "stderr",
     "output_type": "stream",
     "text": [
      "Some weights of the model checkpoint at /Users/ritubelani/.cache/torch/sentence_transformers/sbert.net_models_bert-base-nli-mean-tokens/0_BERT were not used when initializing BertModel: ['classifier.bias', 'classifier.weight']\n",
      "- This IS expected if you are initializing BertModel from the checkpoint of a model trained on another task or with another architecture (e.g. initializing a BertForSequenceClassification model from a BertForPreTraining model).\n",
      "- This IS NOT expected if you are initializing BertModel from the checkpoint of a model that you expect to be exactly identical (initializing a BertForSequenceClassification model from a BertForSequenceClassification model).\n"
     ]
    }
   ],
   "source": [
    "from sentence_transformers import SentenceTransformer\n",
    "from transformers import AutoTokenizer, AutoModel\n",
    "tokenizer = AutoTokenizer.from_pretrained(\"sentence-transformers/bert-base-nli-mean-tokens\")\n",
    "model = AutoModel.from_pretrained(\"sentence-transformers/bert-base-nli-mean-tokens\")\n",
    "model = SentenceTransformer('bert-base-nli-mean-tokens')\n",
    "embeds = []\n",
    "for comment in csvdtf[\"comment_text\"]:\n",
    "    embeds.append(model.encode(comment))\n",
    "\n",
    "columnswise = []\n",
    "for x in range(0, len(embeds[0])):\n",
    "    column = []\n",
    "    for y in range(0, sample_size):\n",
    "        column.append(embeds[y][x])\n",
    "    columnswise.append(column)\n",
    "\n",
    "for z in range(0, len(embeds[0])):\n",
    "    csvdtf[\"bert_feature_\" + str(z)] = columnswise[z]"
   ]
  },
  {
   "cell_type": "code",
   "execution_count": 41,
   "id": "4bf00aaf",
   "metadata": {},
   "outputs": [
    {
     "name": "stderr",
     "output_type": "stream",
     "text": [
      "/Users/ritubelani/opt/anaconda3/envs/SpacyEnv/lib/python3.9/site-packages/gensim/similarities/__init__.py:15: UserWarning: The gensim.similarities.levenshtein submodule is disabled, because the optional Levenshtein package <https://pypi.org/project/python-Levenshtein/> is unavailable. Install Levenhstein (e.g. `pip install python-Levenshtein`) to suppress this warning.\n",
      "  warnings.warn(msg)\n"
     ]
    }
   ],
   "source": [
    "# import\n",
    "from gensim.models.doc2vec import Doc2Vec, TaggedDocument\n",
    "import warnings\n",
    "warnings.filterwarnings('ignore')\n",
    "lower = []\n",
    "for comment in csvdtf[\"puncted\"]:\n",
    "    sentences = []\n",
    "    for sentence in comment:\n",
    "        sentences.append(sentence.lower())\n",
    "    lower.append(sentences)\n",
    "csvdtf[\"lower_puncted\"] = lower\n",
    "\n",
    "tagged_data = [TaggedDocument(d, [i]) for i, d in enumerate(csvdtf[\"lower_puncted\"])]\n",
    "\n",
    "## Train doc2vec model\n",
    "model = Doc2Vec(tagged_data, vector_size = 20, window = 2, min_count = 1, epochs = 100)\n",
    "\n",
    "vectors = []\n",
    "for comment in csvdtf[\"lower_puncted\"]:\n",
    "    vectors.append(model.infer_vector(comment))\n",
    "    \n",
    "\n",
    "csvdtf[\"doc2vec_embeds\"] = vectors\n",
    "\n",
    "\n",
    "columnswise = []\n",
    "for x in range(0, len(vectors[0])):\n",
    "    column = []\n",
    "    for y in range(0, sample_size):\n",
    "        column.append(vectors[y][x])\n",
    "    columnswise.append(column)\n",
    "\n",
    "for z in range(0, len(vectors[0])):\n",
    "    csvdtf[\"doc2vec_feature_\" + str(z)] = columnswise[z]"
   ]
  },
  {
   "cell_type": "code",
   "execution_count": 49,
   "id": "c756dd95",
   "metadata": {},
   "outputs": [],
   "source": [
    "import tensorflow as tf\n",
    "import tensorflow_hub as hub\n",
    "import numpy as np\n",
    "\n",
    "module_url = \"https://tfhub.dev/google/universal-sentence-encoder/4\"\n",
    "model = hub.load(module_url)\n",
    "print(\"module %s loaded\" % module_url)\n",
    "\n",
    "all_comments = []\n",
    "\n",
    "for comment in csvdtf[\"comment_text\"]:\n",
    "    all_comments.append(comment)\n",
    "\n",
    "sentence_embeddings = model(all_comments)\n",
    "\n",
    "csvdtf[\"universal_sentence_encoder\"] = sentence_embeddings\n",
    "\n",
    "columnswise = []\n",
    "for x in range(0, len(sentence_embeddings[0])):\n",
    "    column = []\n",
    "    for y in range(0, sample_size):\n",
    "        column.append(sentence_embeddings[y][x].numpy())\n",
    "    columnswise.append(column)\n",
    "\n",
    "for z in range(0, len(sentence_embeddings[0])):\n",
    "    csvdtf[\"use_feature_\" + str(z)] = columnswise[z]"
   ]
  },
  {
   "cell_type": "code",
   "execution_count": 43,
   "id": "40ae89c5",
   "metadata": {},
   "outputs": [],
   "source": [
    "probs = []\n",
    "for c in range(0, sample_size):\n",
    "    slist = []\n",
    "    slist.append(all_sentences[c])\n",
    "    probability = predict_prob(slist)\n",
    "    probs.append(float(probability))\n",
    "\n",
    "csvdtf[\"profanity_probability\"] = probs"
   ]
  },
  {
   "cell_type": "code",
   "execution_count": 44,
   "id": "ab18d00e",
   "metadata": {},
   "outputs": [
    {
     "data": {
      "image/png": "[encoded data removed]",
      "text/plain": [
       "<Figure size 720x360 with 1 Axes>"
      ]
     },
     "metadata": {
      "needs_background": "light"
     },
     "output_type": "display_data"
    }
   ],
   "source": [
    "plotfeature('profanity_probability')"
   ]
  },
  {
   "cell_type": "code",
   "execution_count": null,
   "id": "d3defeac",
   "metadata": {},
   "outputs": [],
   "source": [
    "csvdtf.to_csv(\"FeaturesAsOf6_12.csv\")"
   ]
  },
  {
   "cell_type": "code",
   "execution_count": 5,
   "id": "4d1474b1",
   "metadata": {},
   "outputs": [],
   "source": [
    "## continuing the featurization later on\n",
    "csvdtf = pd.read_csv(\"FeaturesAsOf6_12.csv\")\n",
    "\n",
    "import language_tool_python\n",
    "tool = language_tool_python.LanguageTool(\"en-US\")\n",
    "lengts = []\n",
    "for comment in csvdtf[\"stopworded\"]:\n",
    "    f = []\n",
    "    f.append(len(tool.check(comment)))\n",
    "    lengts.append(f)\n",
    "\n",
    "from sklearn.preprocessing import MinMaxScaler\n",
    "scaler = MinMaxScaler()\n",
    "scaler.fit(lengts)\n",
    "scaledlengts = scaler.transform(lengts)"
   ]
  },
  {
   "cell_type": "code",
   "execution_count": 8,
   "id": "044af014",
   "metadata": {},
   "outputs": [],
   "source": [
    "markers = []\n",
    "for word in open(\"ists_isms\"):\n",
    "    if \"\\n\" in word:\n",
    "        markers.append(word[:len(word)-1])\n",
    "    else:\n",
    "        markers.append(word)\n",
    "        \n",
    "counts = []\n",
    "for comment in csvdtf[\"stopworded\"]:\n",
    "    x = 0\n",
    "    for word in markers:\n",
    "        if word in comment:\n",
    "            x = 1\n",
    "    counts.append(x)\n",
    "\n",
    "csvdtf[\"ist_present\"] = counts"
   ]
  },
  {
   "cell_type": "code",
   "execution_count": null,
   "id": "ff7b433f",
   "metadata": {},
   "outputs": [],
   "source": []
  }
 ],
 "metadata": {
  "kernelspec": {
   "display_name": "Python 3 (ipykernel)",
   "language": "python",
   "name": "python3"
  },
  "language_info": {
   "codemirror_mode": {
    "name": "ipython",
    "version": 3
   },
   "file_extension": ".py",
   "mimetype": "text/x-python",
   "name": "python",
   "nbconvert_exporter": "python",
   "pygments_lexer": "ipython3",
   "version": "3.9.5"
  }
 },
 "nbformat": 4,
 "nbformat_minor": 5
}
